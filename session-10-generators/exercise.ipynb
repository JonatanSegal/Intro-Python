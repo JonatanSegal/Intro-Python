{
 "cells": [
  {
   "cell_type": "markdown",
   "metadata": {},
   "source": [
    "Exercise 1"
   ]
  },
  {
   "cell_type": "code",
   "execution_count": 38,
   "metadata": {},
   "outputs": [],
   "source": [
    "from names import names,cpr\n",
    "class PythonStudents:\n",
    "    def __call__(self):\n",
    "        return iter(self)\n",
    "    \n",
    "    def __iter__(self):\n",
    "        self.last = 0\n",
    "        return self\n",
    "    \n",
    "    def __next__(self):\n",
    "        students = [] \n",
    "        if  self.last > 19:\n",
    "            raise StopIteration\n",
    "        newStudent = Student(names[self.last],cpr[self.last])    \n",
    "        students.append(newStudent)\n",
    "        self.last += 1\n",
    "        return str(students)\n",
    "\n",
    "\n",
    "\n",
    "\n",
    "class Student:\n",
    "    def __init__(self, name, cpr):\n",
    "        self.name = name\n",
    "        self.cpr = cpr\n",
    "\n",
    "    @property\n",
    "    def name(self):\n",
    "            return self.__name\n",
    "\n",
    "    @name.setter\n",
    "    def name(self, name):\n",
    "        self.__name = name.capitalize()\n",
    "\n",
    "    def __add__(self, student):\n",
    "        return Student('Anna the daugther', 1234)\n",
    "\n",
    "    def __str__(self):\n",
    "        return f'{self.name}, {self.cpr}'\n",
    "\n",
    "    def __repr__(self):\n",
    "        return f'{self.name}, {self.cpr}'"
   ]
  },
  {
   "cell_type": "code",
   "execution_count": 39,
   "metadata": {},
   "outputs": [],
   "source": [
    "students = PythonStudents()"
   ]
  },
  {
   "cell_type": "code",
   "execution_count": 40,
   "metadata": {},
   "outputs": [
    {
     "name": "stdout",
     "output_type": "stream",
     "text": [
      "[Tristin mitchell, 7327]\n",
      "[Tyrese church, 7716]\n",
      "[Adeline raymond, 5843]\n",
      "[Elaine rowland, 9605]\n",
      "[Joshua hayes, 3113]\n",
      "[Reuben figueroa, 8044]\n",
      "[Jadyn briggs, 7087]\n",
      "[Emerson hood, 1408]\n",
      "[Jaxson harding, 2703]\n",
      "[Samson stout, 6405]\n",
      "[Lukas le, 7544]\n",
      "[Javon randall, 2680]\n",
      "[Kristin ochoa, 5020]\n",
      "[Casey nash, 8311]\n",
      "[Phillip conley, 5135]\n",
      "[Caitlin duran, 9697]\n",
      "[Harley ballard, 3115]\n",
      "[Jeremy ortiz, 7210]\n",
      "[Cristofer cherry, 6787]\n",
      "[Dixie kaufman, 2351]\n"
     ]
    }
   ],
   "source": [
    "for i in students:\n",
    "    print(i)"
   ]
  },
  {
   "cell_type": "code",
   "execution_count": 41,
   "metadata": {},
   "outputs": [
    {
     "data": {
      "text/plain": [
       "Abe, 123"
      ]
     },
     "execution_count": 41,
     "metadata": {},
     "output_type": "execute_result"
    }
   ],
   "source": [
    "aStudent = Student('Abe',123)\n",
    "aStudent"
   ]
  },
  {
   "cell_type": "markdown",
   "metadata": {},
   "source": [
    "Exercise 2"
   ]
  },
  {
   "cell_type": "code",
   "execution_count": null,
   "metadata": {},
   "outputs": [],
   "source": [
    "import random\n",
    "names = ['John', 'Corey', 'Adam', 'Steve', 'Rick', 'Thomas']\n",
    "majors = ['Math', 'Engineering', 'CompSci', 'Arts', 'Business']\n",
    "\n",
    "def students_list(num_students):\n",
    "    students = []\n",
    "    ranNameNum = random.randrange(4)\n",
    "    ranMajorNum = random.randrange(5)\n",
    "    id = 1\n",
    "\n",
    "def students_generator(num_students):\n",
    "    pass\n",
    "\n",
    "people = students_list(1000000)\n",
    "people = students_generator(1000000)"
   ]
  }
 ],
 "metadata": {
  "kernelspec": {
   "display_name": "Python 3.9.13 64-bit",
   "language": "python",
   "name": "python3"
  },
  "language_info": {
   "codemirror_mode": {
    "name": "ipython",
    "version": 3
   },
   "file_extension": ".py",
   "mimetype": "text/x-python",
   "name": "python",
   "nbconvert_exporter": "python",
   "pygments_lexer": "ipython3",
   "version": "3.9.13"
  },
  "orig_nbformat": 4,
  "vscode": {
   "interpreter": {
    "hash": "e1db57dd4d9244a4017411a446f80bc3d6a71af38486fae30b5853833e574e6f"
   }
  }
 },
 "nbformat": 4,
 "nbformat_minor": 2
}
